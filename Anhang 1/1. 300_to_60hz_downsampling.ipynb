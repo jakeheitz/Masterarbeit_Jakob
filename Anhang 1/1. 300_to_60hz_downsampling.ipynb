{
 "cells": [
  {
   "cell_type": "code",
   "execution_count": 1,
   "id": "89415ad9-8de8-43d0-bbf2-d25a15d7d20b",
   "metadata": {},
   "outputs": [
    {
     "name": "stdout",
     "output_type": "stream",
     "text": [
      "Resampled data saved to E:\\Datenerhebung MA\\Vicon_csv\\mittelwert\\MAN262\\60fps\\09_ebs_mittelwert_60fps.csv\n"
     ]
    }
   ],
   "source": [
    "import os\n",
    "import pandas as pd\n",
    "import numpy as np\n",
    "from scipy.signal import resample\n",
    "\n",
    "# Verzeichnisse für Eingabe und Ausgabe\n",
    "input_directory = r\"E:\\Datenerhebung MA\\Vicon_csv\\mittelwert\\MAN262\\x\"  # Pfad zum Eingabeordner\n",
    "output_directory = r\"E:\\Datenerhebung MA\\Vicon_csv\\mittelwert\\MAN262\\60fps\"  # Pfad zum Ausgabeordner\n",
    "\n",
    "# Originalfrequenz und Ziel-Frequenz\n",
    "original_frequency = 300  # Originalfrequenz in Hz\n",
    "target_frequency = 60     # Ziel-Frequenz in Hz\n",
    "resample_factor = target_frequency / original_frequency\n",
    "\n",
    "# Funktion zum Resampling\n",
    "def resample_data(df, original_frequency, target_frequency):\n",
    "    resampled_df = pd.DataFrame()\n",
    "    \n",
    "    # Die erste Spalte als Frame-Nummern direkt übernehmen\n",
    "    frame_column = df.columns[0]  # Annahme: erste Spalte sind Frame-Nummern\n",
    "    resampled_df[frame_column] = df[frame_column][:int(len(df) * resample_factor)]\n",
    "\n",
    "    # Zeiterstellung basierend auf der Ziel-Frequenz\n",
    "    original_time = np.linspace(0, len(df) / original_frequency, len(df))\n",
    "    target_time = np.linspace(0, len(df) / original_frequency, int(len(df) * resample_factor))\n",
    "\n",
    "    # Resampling der restlichen Spalten\n",
    "    for column in df.columns[1:]:  # Überspringe die erste Spalte\n",
    "        column_data = df[column]\n",
    "        if column_data.isna().all():\n",
    "            resampled_df[column] = np.nan  # Wenn alle Werte NaN sind, bleiben sie NaN\n",
    "        else:\n",
    "            resampled_values = resample(column_data.fillna(0), len(target_time))\n",
    "            resampled_df[column] = resampled_values\n",
    "\n",
    "    return resampled_df\n",
    "\n",
    "# Alle Dateien im Eingabeordner durchgehen\n",
    "for file_name in os.listdir(input_directory):\n",
    "    # Nur CSV-Dateien verarbeiten\n",
    "    if file_name.endswith(\".csv\"):\n",
    "        input_file_path = os.path.join(input_directory, file_name)\n",
    "        \n",
    "        # Datei laden\n",
    "        data = pd.read_csv(input_file_path)\n",
    "\n",
    "        # Resampling anwenden\n",
    "        resampled_data = resample_data(data, original_frequency, target_frequency)\n",
    "        \n",
    "        # Ausgabedatei-Pfad definieren (mit _60fps am Ende des Dateinamens)\n",
    "        base_name, ext = os.path.splitext(file_name)  # Dateiname ohne Erweiterung\n",
    "        output_file_name = f\"{base_name}_60fps{ext}\"  # Dateiname mit _60fps\n",
    "        output_file_path = os.path.join(output_directory, output_file_name)\n",
    "\n",
    "        # Resamplete Daten speichern\n",
    "        resampled_data.to_csv(output_file_path, index=False)\n",
    "        print(f\"Resampled data saved to {output_file_path}\")\n"
   ]
  },
  {
   "cell_type": "code",
   "execution_count": null,
   "id": "a250ab47-e1a5-454f-8f0f-852c09b2a004",
   "metadata": {},
   "outputs": [],
   "source": []
  },
  {
   "cell_type": "code",
   "execution_count": null,
   "id": "1170d80c-5d10-4a95-a00c-15b3d73bfd70",
   "metadata": {},
   "outputs": [],
   "source": []
  },
  {
   "cell_type": "code",
   "execution_count": null,
   "id": "970467d0-b40d-4d92-8387-3bd890ea9b25",
   "metadata": {},
   "outputs": [],
   "source": []
  },
  {
   "cell_type": "markdown",
   "id": "ea10ad65-374e-44e7-a7c2-a4f04be49c82",
   "metadata": {},
   "source": [
    "# 30fps"
   ]
  },
  {
   "cell_type": "code",
   "execution_count": 4,
   "id": "016e2020-f716-4571-912a-4c93fd05e891",
   "metadata": {},
   "outputs": [
    {
     "name": "stdout",
     "output_type": "stream",
     "text": [
      "Resampled data saved to E:\\Datenerhebung MA\\Vicon_csv\\mittelwert\\MAN262\\30fps\\09_ebs_mittelwert_30fps.csv\n"
     ]
    }
   ],
   "source": [
    "import os\n",
    "import pandas as pd\n",
    "import numpy as np\n",
    "from scipy.signal import resample\n",
    "\n",
    "# Verzeichnisse für Eingabe und Ausgabe\n",
    "input_directory = r\"E:\\Datenerhebung MA\\Vicon_csv\\mittelwert\\MAN262\\x\"  # Pfad zum Eingabeordner\n",
    "output_directory = r\"E:\\Datenerhebung MA\\Vicon_csv\\mittelwert\\MAN262\\30fps\"  # Pfad zum Ausgabeordner\n",
    "\n",
    "# Originalfrequenz und Ziel-Frequenz\n",
    "original_frequency = 300  # Originalfrequenz in Hz\n",
    "target_frequency = 30     # Ziel-Frequenz in Hz\n",
    "resample_factor = target_frequency / original_frequency\n",
    "\n",
    "# Funktion zum Resampling\n",
    "def resample_data(df, original_frequency, target_frequency):\n",
    "    resampled_df = pd.DataFrame()\n",
    "    \n",
    "    # Die erste Spalte als Frame-Nummern direkt übernehmen\n",
    "    frame_column = df.columns[0]  # Annahme: erste Spalte sind Frame-Nummern\n",
    "    resampled_df[frame_column] = df[frame_column][:int(len(df) * resample_factor)]\n",
    "\n",
    "    # Zeiterstellung basierend auf der Ziel-Frequenz\n",
    "    original_time = np.linspace(0, len(df) / original_frequency, len(df))\n",
    "    target_time = np.linspace(0, len(df) / original_frequency, int(len(df) * resample_factor))\n",
    "\n",
    "    # Resampling der restlichen Spalten\n",
    "    for column in df.columns[1:]:  # Überspringe die erste Spalte\n",
    "        column_data = df[column]\n",
    "        if column_data.isna().all():\n",
    "            resampled_df[column] = np.nan  # Wenn alle Werte NaN sind, bleiben sie NaN\n",
    "        else:\n",
    "            resampled_values = resample(column_data.fillna(0), len(target_time))\n",
    "            resampled_df[column] = resampled_values\n",
    "\n",
    "    return resampled_df\n",
    "\n",
    "# Alle Dateien im Eingabeordner durchgehen\n",
    "for file_name in os.listdir(input_directory):\n",
    "    # Nur CSV-Dateien verarbeiten\n",
    "    if file_name.endswith(\".csv\"):\n",
    "        input_file_path = os.path.join(input_directory, file_name)\n",
    "        \n",
    "        # Datei laden\n",
    "        data = pd.read_csv(input_file_path)\n",
    "\n",
    "        # Resampling anwenden\n",
    "        resampled_data = resample_data(data, original_frequency, target_frequency)\n",
    "        \n",
    "        # Ausgabedatei-Pfad definieren (mit _60fps am Ende des Dateinamens)\n",
    "        base_name, ext = os.path.splitext(file_name)  # Dateiname ohne Erweiterung\n",
    "        output_file_name = f\"{base_name}_30fps{ext}\"  # Dateiname mit _60fps\n",
    "        output_file_path = os.path.join(output_directory, output_file_name)\n",
    "\n",
    "        # Resamplete Daten speichern\n",
    "        resampled_data.to_csv(output_file_path, index=False)\n",
    "        print(f\"Resampled data saved to {output_file_path}\")\n"
   ]
  },
  {
   "cell_type": "code",
   "execution_count": null,
   "id": "67a1447b-f609-4677-b437-1ff8e0a10ae0",
   "metadata": {},
   "outputs": [],
   "source": []
  },
  {
   "cell_type": "code",
   "execution_count": null,
   "id": "bbad6943-45c6-4ca4-b978-fdbd6967449b",
   "metadata": {},
   "outputs": [],
   "source": []
  }
 ],
 "metadata": {
  "kernelspec": {
   "display_name": "Python 3 (ipykernel)",
   "language": "python",
   "name": "python3"
  },
  "language_info": {
   "codemirror_mode": {
    "name": "ipython",
    "version": 3
   },
   "file_extension": ".py",
   "mimetype": "text/x-python",
   "name": "python",
   "nbconvert_exporter": "python",
   "pygments_lexer": "ipython3",
   "version": "3.11.8"
  }
 },
 "nbformat": 4,
 "nbformat_minor": 5
}
