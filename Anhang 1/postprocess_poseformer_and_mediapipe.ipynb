{
 "cells": [
  {
   "cell_type": "markdown",
   "id": "bb7e91ce-d9af-4c29-80fe-ec5e704a6793",
   "metadata": {},
   "source": [
    "# PoseFormerV2"
   ]
  },
  {
   "cell_type": "code",
   "execution_count": 2,
   "id": "d9f571ef-0aa5-499f-bf5a-612bdb4cd83f",
   "metadata": {},
   "outputs": [],
   "source": [
    "import numpy as np"
   ]
  },
  {
   "cell_type": "markdown",
   "id": "4179f58b-6e4d-4ced-9ae9-5efe15515aff",
   "metadata": {},
   "source": [
    "### Code to make one combined npz file out of all the npz files for the individual frames\n",
    "\n"
   ]
  },
  {
   "cell_type": "code",
   "execution_count": 1,
   "id": "5d1ab157-b078-41a6-a08e-8b2d454c8b64",
   "metadata": {},
   "outputs": [
    {
     "name": "stdout",
     "output_type": "stream",
     "text": [
      "All keypoints combined into: C:\\Users\\localtest\\Desktop\\MA\\PoseFormerV2\\demo\\output\\02_squat_5_hoch\\pose3D_keypoints\\combined\\combined_keypoints.npz\n"
     ]
    }
   ],
   "source": [
    "#create a folder named \"combined\" in the pose3D_keypoints folder\n",
    "import numpy as np\n",
    "import os\n",
    "\n",
    "# List of directories containing the .npz files\n",
    "directories = [\n",
    "    r'C:\\Users\\localtest\\Desktop\\MA\\PoseFormerV2\\demo\\output\\02_squat_5_hoch\\pose3D_keypoints',\n",
    "   \n",
    "]\n",
    "\n",
    "for directory in directories:\n",
    "    # Output directory for the combined file\n",
    "    output_directory = os.path.join(directory, 'combined')\n",
    "    os.makedirs(output_directory, exist_ok=True)  # Ensure the output directory exists\n",
    "\n",
    "    # Retrieve all npz files sorted by name (assuming they are sequentially named)\n",
    "    files = sorted([f for f in os.listdir(directory) if f.endswith('.npz')])\n",
    "\n",
    "    # Dictionary to hold all keypoints from all frames\n",
    "    all_keypoints = {}\n",
    "\n",
    "    # Load each .npz file and retrieve its content\n",
    "    for filename in files:\n",
    "        frame_index = filename.split('_')[0]  # Assuming filename format 'XXXX_3D_keypoints.npz'\n",
    "        file_path = os.path.join(directory, filename)\n",
    "        data = np.load(file_path)\n",
    "        all_keypoints[f'frame_{frame_index}'] = data['keypoints_3d']\n",
    "\n",
    "    # Save all keypoints in a single .npz file\n",
    "    output_path = os.path.join(output_directory, 'combined_keypoints.npz')\n",
    "    np.savez(output_path, **all_keypoints)\n",
    "    print(f\"All keypoints combined into: {output_path}\")\n"
   ]
  },
  {
   "cell_type": "code",
   "execution_count": null,
   "id": "ee4fae95-c07a-45d9-bb60-9a633b615fb1",
   "metadata": {},
   "outputs": [],
   "source": []
  },
  {
   "cell_type": "code",
   "execution_count": null,
   "id": "679b5bd7-0784-429c-8f5c-d3ec0cc11fab",
   "metadata": {},
   "outputs": [],
   "source": []
  },
  {
   "cell_type": "code",
   "execution_count": 8,
   "id": "8a16176b-0f92-47ef-9aae-bec5915d9de6",
   "metadata": {},
   "outputs": [],
   "source": [
    "data = np.load(r'E:\\Datenerhebung MA\\PoseFormerV2 Daten\\AEN262\\Cam1\\17_tubes_1\\pose3D_keypoints\\combined\\combined_keypoints.npz')\n"
   ]
  },
  {
   "cell_type": "code",
   "execution_count": 9,
   "id": "ecf12a8f-c4f1-4994-ba7b-4bf67d1b1f0f",
   "metadata": {},
   "outputs": [
    {
     "name": "stdout",
     "output_type": "stream",
     "text": [
      "Arrays in the NPZ file: []\n"
     ]
    }
   ],
   "source": [
    "print(\"Arrays in the NPZ file:\", data.files)"
   ]
  },
  {
   "cell_type": "code",
   "execution_count": 7,
   "id": "7ec50330-32ea-4099-851d-d27b81dfdcbe",
   "metadata": {},
   "outputs": [
    {
     "name": "stdout",
     "output_type": "stream",
     "text": [
      "specific_array: [[ 0.          0.          0.15064745]\n",
      " [ 0.11051494  0.05473553  0.14203462]\n",
      " [-0.00406489  0.48324507  0.22314505]\n",
      " [ 0.12623438  0.24491972  0.0195439 ]\n",
      " [-0.1105116  -0.05473369  0.15925722]\n",
      " [-0.32854715  0.2726097   0.26078779]\n",
      " [-0.13877401  0.06093442  0.        ]\n",
      " [-0.05111395  0.116116    0.3354149 ]\n",
      " [-0.18721569  0.26213586  0.5077594 ]\n",
      " [-0.23501563  0.33032942  0.5401264 ]\n",
      " [-0.23914492  0.2728693   0.6138778 ]\n",
      " [-0.29650867  0.16916078  0.4745111 ]\n",
      " [-0.4537642   0.06522785  0.3015593 ]\n",
      " [-0.45543814  0.31267488  0.25516403]\n",
      " [-0.06129982  0.32335094  0.4725662 ]\n",
      " [-0.15835103  0.4889629   0.24719267]\n",
      " [-0.35726917  0.51159704  0.11796306]]\n",
      "specific_array2: [[ 0.          0.          0.6771157 ]\n",
      " [ 0.12276611  0.02369345  0.6806498 ]\n",
      " [ 0.11718816  0.27276772  0.353351  ]\n",
      " [ 0.2296194   0.25927782  0.00213969]\n",
      " [-0.12276375 -0.02369159  0.67358327]\n",
      " [-0.14243075  0.16402505  0.3172377 ]\n",
      " [ 0.00747965  0.1539132   0.        ]\n",
      " [-0.01678364  0.03469676  0.89285976]\n",
      " [-0.09338398  0.09421495  1.1370449 ]\n",
      " [-0.11395708  0.1696648   1.217453  ]\n",
      " [-0.14301243  0.08399296  1.2999192 ]\n",
      " [-0.21966507  0.0524188   1.0693303 ]\n",
      " [-0.40907452  0.08815917  0.9295366 ]\n",
      " [-0.4829625   0.34176183  0.91054714]\n",
      " [ 0.06353521  0.10459271  1.1016343 ]\n",
      " [ 0.28208297  0.20514107  0.9754761 ]\n",
      " [ 0.15845695  0.4257308   0.9859008 ]]\n"
     ]
    }
   ],
   "source": [
    "specific_array = data['frame_0005']\n",
    "print(\"specific_array:\", specific_array)\n",
    "specific_array2 = data['frame_0100']\n",
    "print(\"specific_array2:\", specific_array2)"
   ]
  },
  {
   "cell_type": "code",
   "execution_count": null,
   "id": "4a03ff29-a33f-4ba3-9d7c-1e28831ee354",
   "metadata": {},
   "outputs": [],
   "source": []
  },
  {
   "cell_type": "code",
   "execution_count": null,
   "id": "b9821173-fb70-44f7-9f43-41958bd351cf",
   "metadata": {},
   "outputs": [],
   "source": []
  },
  {
   "cell_type": "markdown",
   "id": "bd00e9db-5aac-4b20-ac67-927b226b80e8",
   "metadata": {},
   "source": [
    "convert to csv"
   ]
  },
  {
   "cell_type": "code",
   "execution_count": 2,
   "id": "bc2aecba-bdaa-4162-98e3-eb10fafcca87",
   "metadata": {},
   "outputs": [
    {
     "name": "stdout",
     "output_type": "stream",
     "text": [
      "Konvertierung abgeschlossen: C:\\Users\\localtest\\Desktop\\MA\\PoseFormerV2\\demo\\output\\02_squat_5_hoch\\pose3D_keypoints\\combined\\combined_keypoints.csv\n"
     ]
    }
   ],
   "source": [
    "import numpy as np\n",
    "import csv\n",
    "import os\n",
    "\n",
    "# Funktion zur Verarbeitung einer einzelnen .npz-Datei\n",
    "def process_npz_file(input_file_path):\n",
    "    # Lade die .npz-Datei\n",
    "    data = np.load(input_file_path)\n",
    "\n",
    "    # Erstelle den Pfad zur Ausgabedatei (gleicher Ordner wie die Eingabedatei)\n",
    "    output_file_path = os.path.splitext(input_file_path)[0] + \".csv\"\n",
    "\n",
    "    # Öffne eine CSV-Datei zum Schreiben des Outputs\n",
    "    with open(output_file_path, 'w', newline='') as csvfile:\n",
    "        writer = csv.writer(csvfile)\n",
    "\n",
    "        # Initialisiere einen Zähler für die Zeilen-Nummerierung\n",
    "        row_number = 1\n",
    "\n",
    "        # Schleife über jeden Frame in der .npz-Datei\n",
    "        for frame_name in data.files:\n",
    "            # Rufe das Array für den aktuellen Frame ab\n",
    "            frame_array = data[frame_name]\n",
    "\n",
    "            # Flache das mehrdimensionale Array zu einem 1D-Array ab\n",
    "            flattened_array = frame_array.flatten()\n",
    "\n",
    "            # Entferne die Spalten 23 bis 34 (Indizes 22 bis 33)\n",
    "            filtered_array = np.delete(flattened_array, np.s_[21:33])\n",
    "\n",
    "            # Füge die Zeilen-Nummerierung an den Anfang des Arrays hinzu\n",
    "            numbered_array = np.insert(filtered_array, 0, row_number)\n",
    "\n",
    "            # Schreibe das nummerierte Array als Zeile in die CSV-Datei\n",
    "            writer.writerow(numbered_array)\n",
    "\n",
    "            # Inkrementiere die Zeilen-Nummerierung\n",
    "            row_number += 1\n",
    "\n",
    "    print(f\"Konvertierung abgeschlossen: {output_file_path}\")\n",
    "\n",
    "# Mehrere Ordner mit .npz-Dateien angeben\n",
    "input_folders = [\n",
    "    r'C:\\Users\\localtest\\Desktop\\MA\\PoseFormerV2\\demo\\output\\02_squat_5_hoch\\pose3D_keypoints\\combined',\n",
    "]\n",
    "\n",
    "# Alle Ordner durchgehen\n",
    "for input_folder in input_folders:\n",
    "    if not os.path.isdir(input_folder):\n",
    "        print(f\"Ordner nicht gefunden: {input_folder}\")\n",
    "        continue\n",
    "\n",
    "    # Alle Dateien im Ordner durchgehen\n",
    "    for file_name in os.listdir(input_folder):\n",
    "        # Überprüfen, ob es sich um eine .npz-Datei handelt\n",
    "        if file_name.endswith(\".npz\"):\n",
    "            input_file_path = os.path.join(input_folder, file_name)\n",
    "            process_npz_file(input_file_path)\n"
   ]
  },
  {
   "cell_type": "code",
   "execution_count": null,
   "id": "75b5c8d8-3b50-4106-9f07-299233759f9f",
   "metadata": {},
   "outputs": [],
   "source": []
  },
  {
   "cell_type": "code",
   "execution_count": null,
   "id": "e4421201-7907-439f-9da5-116c72f1e4eb",
   "metadata": {},
   "outputs": [],
   "source": []
  },
  {
   "cell_type": "markdown",
   "id": "aec24867-a4ad-4a40-9fe0-f3914446c993",
   "metadata": {},
   "source": [
    "# MediaPipe"
   ]
  },
  {
   "cell_type": "code",
   "execution_count": null,
   "id": "cf1c956d-4712-444c-be52-8dfa85bd0af0",
   "metadata": {},
   "outputs": [],
   "source": [
    "import os\n",
    "import pandas as pd\n",
    "\n",
    "# Listen von Eingabe- und Ausgabeordnern\n",
    "input_directories = [\n",
    "    r'E:\\Datenerhebung MA\\MediaPipe\\NSN261\\Cam5_hoch\\Complexity0',\n",
    "    r'E:\\Datenerhebung MA\\MediaPipe\\NSN261\\Cam5_hoch\\Complexity1',\n",
    "    r'E:\\Datenerhebung MA\\MediaPipe\\NSN261\\Cam5_hoch\\Complexity2',\n",
    "    r'E:\\Datenerhebung MA\\MediaPipe\\NSN261\\Cam6_hoch\\Complexity0',\n",
    "    r'E:\\Datenerhebung MA\\MediaPipe\\NSN261\\Cam6_hoch\\Complexity1',\n",
    "    r'E:\\Datenerhebung MA\\MediaPipe\\NSN261\\Cam6_hoch\\Complexity2',\n",
    "   \n",
    "]\n",
    "\n",
    "output_directories = [\n",
    "    r'E:\\Datenerhebung MA\\MediaPipe\\NSN261\\Cam5_hoch\\Complexity0\\formatted',\n",
    "    r'E:\\Datenerhebung MA\\MediaPipe\\NSN261\\Cam5_hoch\\Complexity1\\formatted',\n",
    "    r'E:\\Datenerhebung MA\\MediaPipe\\NSN261\\Cam5_hoch\\Complexity2\\formatted',\n",
    "    r'E:\\Datenerhebung MA\\MediaPipe\\NSN261\\Cam6_hoch\\Complexity0\\formatted',\n",
    "    r'E:\\Datenerhebung MA\\MediaPipe\\NSN261\\Cam6_hoch\\Complexity1\\formatted',\n",
    "    r'E:\\Datenerhebung MA\\MediaPipe\\NSN261\\Cam6_hoch\\Complexity2\\formatted',\n",
    "\n",
    "]\n",
    "\n",
    "# Specify the landmarks to include in the desired order\n",
    "selected_landmarks = [24, 26, 28, 23, 25, 27, 11, 13, 15, 12, 14, 16]\n",
    "\n",
    "# Funktion zum Bearbeiten von Dateien in mehreren Ordnern\n",
    "for input_directory, output_directory in zip(input_directories, output_directories):\n",
    "    # Alle Dateien im Eingabeordner durchgehen\n",
    "    for file_name in os.listdir(input_directory):\n",
    "        # Nur CSV-Dateien verarbeiten\n",
    "        if file_name.endswith(\".csv\"):\n",
    "            input_file_path = os.path.join(input_directory, file_name)\n",
    "\n",
    "            # Datei einlesen\n",
    "            data = pd.read_csv(input_file_path)\n",
    "\n",
    "            # Get unique frame numbers\n",
    "            frames = data['frame'].unique()\n",
    "\n",
    "            # Initialize a dictionary to store the data in the desired format\n",
    "            data_dict = {'Frame': []}\n",
    "\n",
    "            # Create columns for each selected landmark (X, Y, Z)\n",
    "            for landmark in selected_landmarks:\n",
    "                data_dict[f'Landmark_{landmark}_X'] = []\n",
    "                data_dict[f'Landmark_{landmark}_Y'] = []\n",
    "                data_dict[f'Landmark_{landmark}_Z'] = []\n",
    "\n",
    "            # Loop through each frame\n",
    "            for frame in frames:\n",
    "                # Filter data for the current frame\n",
    "                frame_data = data[data['frame'] == frame]\n",
    "\n",
    "                # Add the frame number to the dictionary\n",
    "                data_dict['Frame'].append(frame)\n",
    "\n",
    "                # Add X, Y, Z coordinates for each selected landmark\n",
    "                for landmark in selected_landmarks:\n",
    "                    landmark_data = frame_data[frame_data['landmark_index'] == landmark]\n",
    "                    if not landmark_data.empty:\n",
    "                        data_dict[f'Landmark_{landmark}_X'].append(landmark_data['x'].values[0])\n",
    "                        data_dict[f'Landmark_{landmark}_Y'].append(landmark_data['y'].values[0])\n",
    "                        data_dict[f'Landmark_{landmark}_Z'].append(landmark_data['z'].values[0])\n",
    "                    else:\n",
    "                        # If landmark data is missing, append NaN\n",
    "                        data_dict[f'Landmark_{landmark}_X'].append(float('nan'))\n",
    "                        data_dict[f'Landmark_{landmark}_Y'].append(float('nan'))\n",
    "                        data_dict[f'Landmark_{landmark}_Z'].append(float('nan'))\n",
    "\n",
    "            # Create a DataFrame from the dictionary\n",
    "            formatted_data = pd.DataFrame(data_dict)\n",
    "\n",
    "            # Der Dateiname mit _formatted anpassen\n",
    "            base_name, ext = os.path.splitext(file_name)\n",
    "            output_file_name = f\"{base_name}_formatted{ext}\"\n",
    "\n",
    "            # Ausgabe-Dateipfad erstellen\n",
    "            output_file_path = os.path.join(output_directory, output_file_name)\n",
    "\n",
    "            # Save the formatted data to a new CSV file without headers\n",
    "            formatted_data.to_csv(output_file_path, index=False, header=False)\n",
    "            print(f\"Formatted data saved to {output_file_path}\")\n"
   ]
  }
 ],
 "metadata": {
  "kernelspec": {
   "display_name": "Python 3 (ipykernel)",
   "language": "python",
   "name": "python3"
  },
  "language_info": {
   "codemirror_mode": {
    "name": "ipython",
    "version": 3
   },
   "file_extension": ".py",
   "mimetype": "text/x-python",
   "name": "python",
   "nbconvert_exporter": "python",
   "pygments_lexer": "ipython3",
   "version": "3.11.8"
  }
 },
 "nbformat": 4,
 "nbformat_minor": 5
}
